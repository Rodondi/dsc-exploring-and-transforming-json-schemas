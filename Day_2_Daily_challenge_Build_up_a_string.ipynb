{
  "nbformat": 4,
  "nbformat_minor": 0,
  "metadata": {
    "colab": {
      "provenance": [],
      "authorship_tag": "ABX9TyNfugSWLoPKdgI+R7mX0OVh"
    },
    "kernelspec": {
      "name": "python3",
      "display_name": "Python 3"
    },
    "language_info": {
      "name": "python"
    }
  },
  "cells": [
    {
      "cell_type": "markdown",
      "source": [
        "Instructions\n",
        "\n",
        "Using the input function, ask the user for a string. The string must be 10 characters long.\n",
        "If it’s less than 10 characters, print a message which states “string not long enough”.\n",
        "If it’s more than 10 characters, print a message which states “string too long”.\n",
        "If it’s 10 characters, print a message which states “perfect string” and continue the exercise.\n",
        "\n",
        "Then, print the first and last characters of the given text.\n",
        "The user enters \"HelloWorld\"\n",
        "Then you have to print\n",
        "H\n",
        "d\n",
        "\n",
        "\n",
        "3. Using a for loop, construct the string character by character: Print the first character, then the second, then the third, until the full string is printed. For example:\n",
        "\n",
        "The user enters \"HelloWorld\"\n",
        "Then, you have to construct the string character by character\n",
        "H\n",
        "He\n",
        "Hel\n",
        "... etc\n",
        "HelloWorld\n",
        "\n",
        "\n",
        "4. Bonus: Swap some characters around then print the newly jumbled string (hint: look into the shuffle method). For example:\n",
        "\n",
        "Hlrolelwod"
      ],
      "metadata": {
        "id": "CXRdi4agUqKt"
      }
    },
    {
      "cell_type": "code",
      "source": [
        "import random\n",
        "\n",
        "# Getting user input\n",
        "user_string = input(\"Enter a string (10 characters long): \")\n",
        "\n",
        "# Checkinmg the string length\n",
        "if len(user_string) < 10:\n",
        "    print(\"string not long enough\")\n",
        "elif len(user_string) > 10:\n",
        "    print(\"string too long\")\n",
        "else:\n",
        "    print(\"perfect string\")\n",
        "\n",
        "    # Printing the first and last characters\n",
        "    print(user_string[0])\n",
        "    print(user_string[-1])\n",
        "\n",
        "    # Building the string character by character\n",
        "    built_string = \"\"\n",
        "    for char in user_string:\n",
        "        built_string += char\n",
        "        print(built_string)\n",
        "\n",
        "    # Shuffling the string\n",
        "    shuffled_list = list(user_string)\n",
        "    random.shuffle(shuffled_list)\n",
        "    shuffled_string = \"\".join(shuffled_list)\n",
        "    print(shuffled_string)"
      ],
      "metadata": {
        "colab": {
          "base_uri": "https://localhost:8080/"
        },
        "id": "sImqMWbkbYHg",
        "outputId": "542264f7-7cc8-43ad-d9cf-421280455113"
      },
      "execution_count": 3,
      "outputs": [
        {
          "output_type": "stream",
          "name": "stdout",
          "text": [
            "Enter a string (10 characters long): programing\n",
            "perfect string\n",
            "p\n",
            "g\n",
            "p\n",
            "pr\n",
            "pro\n",
            "prog\n",
            "progr\n",
            "progra\n",
            "program\n",
            "programi\n",
            "programin\n",
            "programing\n",
            "mgrpigoarn\n"
          ]
        }
      ]
    },
    {
      "cell_type": "markdown",
      "source": [],
      "metadata": {
        "id": "AxDWChY2be1y"
      }
    }
  ]
}